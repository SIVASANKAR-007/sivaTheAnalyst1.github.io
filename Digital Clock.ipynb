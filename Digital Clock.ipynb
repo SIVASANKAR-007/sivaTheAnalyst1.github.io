{
 "cells": [
  {
   "cell_type": "code",
   "execution_count": 5,
   "id": "f96345cf",
   "metadata": {},
   "outputs": [],
   "source": [
    "import tkinter as tk\n",
    "from time import strftime\n",
    "\n",
    "root = tk.Tk()\n",
    "root.title('Digital Clock')\n",
    "\n",
    "#define the clock label\n",
    "clock_label = tk.Label(root,font=('Times New Roman',48),bg = 'black',fg='cyan')\n",
    "\n",
    "clock_label.pack(anchor='center',fill='both',expand=True)\n",
    "\n",
    "def update_time():\n",
    "    current_time = strftime('%H:%M:%S')\n",
    "    clock_label.config(text=current_time)\n",
    "    clock_label.after(1000, update_time)\n",
    "\n",
    "update_time()\n",
    "root.mainloop()"
   ]
  }
 ],
 "metadata": {
  "kernelspec": {
   "display_name": "Python 3",
   "language": "python",
   "name": "python3"
  },
  "language_info": {
   "codemirror_mode": {
    "name": "ipython",
    "version": 3
   },
   "file_extension": ".py",
   "mimetype": "text/x-python",
   "name": "python",
   "nbconvert_exporter": "python",
   "pygments_lexer": "ipython3",
   "version": "3.13.3"
  }
 },
 "nbformat": 4,
 "nbformat_minor": 5
}
