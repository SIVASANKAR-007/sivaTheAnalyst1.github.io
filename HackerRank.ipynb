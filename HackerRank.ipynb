{
 "cells": [
  {
   "cell_type": "code",
   "execution_count": 3,
   "id": "5df92d2c",
   "metadata": {},
   "outputs": [
    {
     "ename": "ValueError",
     "evalue": "invalid literal for int() with base 10: ''",
     "output_type": "error",
     "traceback": [
      "\u001b[31m---------------------------------------------------------------------------\u001b[39m",
      "\u001b[31mValueError\u001b[39m                                Traceback (most recent call last)",
      "\u001b[36mCell\u001b[39m\u001b[36m \u001b[39m\u001b[32mIn[3]\u001b[39m\u001b[32m, line 23\u001b[39m\n\u001b[32m     20\u001b[39m     \u001b[38;5;28;01mreturn\u001b[39;00m \u001b[33m\"\u001b[39m\u001b[33mValid\u001b[39m\u001b[33m\"\u001b[39m\n\u001b[32m     22\u001b[39m \u001b[38;5;66;03m# Input reading\u001b[39;00m\n\u001b[32m---> \u001b[39m\u001b[32m23\u001b[39m n = \u001b[38;5;28;43mint\u001b[39;49m\u001b[43m(\u001b[49m\u001b[38;5;28;43minput\u001b[39;49m\u001b[43m(\u001b[49m\u001b[43m)\u001b[49m\u001b[43m)\u001b[49m\n\u001b[32m     24\u001b[39m \u001b[38;5;28;01mfor\u001b[39;00m _ \u001b[38;5;129;01min\u001b[39;00m \u001b[38;5;28mrange\u001b[39m(n):\n\u001b[32m     25\u001b[39m     card_number = \u001b[38;5;28minput\u001b[39m().strip()\n",
      "\u001b[31mValueError\u001b[39m: invalid literal for int() with base 10: ''"
     ]
    }
   ],
   "source": [
    "import re\n",
    "\n",
    "def is_valid_card(card):\n",
    "    # Check if the format is correct (groups of 4 digits with optional hyphens)\n",
    "    pattern = re.compile(r'^(?:[4-6]\\d{3}-?\\d{4}-?\\d{4}-?\\d{4})$')\n",
    "    if not pattern.match(card):\n",
    "        return \"Invalid\"\n",
    "\n",
    "    # Remove hyphens if present\n",
    "    digits_only = card.replace(\"-\", \"\")\n",
    "    \n",
    "    # Check if there are exactly 16 digits\n",
    "    if len(digits_only) != 16 or not digits_only.isdigit():\n",
    "        return \"Invalid\"\n",
    "\n",
    "    # Check for 4 or more consecutive repeated digits\n",
    "    if re.search(r'(\\d)\\1{3,}', digits_only):\n",
    "        return \"Invalid\"\n",
    "\n",
    "    return \"Valid\"\n",
    "\n",
    "# Input reading\n",
    "n = int(input())\n",
    "for _ in range(n):\n",
    "    card_number = input().strip()\n",
    "    print(is_valid_card(card_number))\n"
   ]
  },
  {
   "cell_type": "code",
   "execution_count": 2,
   "id": "ad59679b",
   "metadata": {},
   "outputs": [
    {
     "ename": "ParseError",
     "evalue": "no element found: line 1, column 0 (<string>)",
     "output_type": "error",
     "traceback": [
      "Traceback \u001b[36m(most recent call last)\u001b[39m:\n",
      "  File \u001b[92m~\\AppData\\Local\\Packages\\PythonSoftwareFoundation.Python.3.13_qbz5n2kfra8p0\\LocalCache\\local-packages\\Python313\\site-packages\\IPython\\core\\interactiveshell.py:3549\u001b[39m in \u001b[95mrun_code\u001b[39m\n    exec(code_obj, self.user_global_ns, self.user_ns)\n",
      "  Cell \u001b[92mIn[2]\u001b[39m\u001b[92m, line 15\u001b[39m\n    root = ET.fromstring(xml_string)\n",
      "\u001b[36m  \u001b[39m\u001b[36mFile \u001b[39m\u001b[32mC:\\Program Files\\WindowsApps\\PythonSoftwareFoundation.Python.3.13_3.13.1008.0_x64__qbz5n2kfra8p0\\Lib\\xml\\etree\\ElementTree.py:1343\u001b[39m\u001b[36m in \u001b[39m\u001b[35mXML\u001b[39m\n\u001b[31m    \u001b[39m\u001b[31mreturn parser.close()\u001b[39m\n",
      "  \u001b[36mFile \u001b[39m\u001b[32m<string>\u001b[39m\n\u001b[31mParseError\u001b[39m\u001b[31m:\u001b[39m no element found: line 1, column 0\n"
     ]
    }
   ],
   "source": [
    "import xml.etree.ElementTree as ET\n",
    "\n",
    "def max_depth(elem, level=0):\n",
    "    # Base case: if the element has no children\n",
    "    if not list(elem):\n",
    "        return level\n",
    "    # Recursive case: calculate max depth among children\n",
    "    return max(max_depth(child, level + 1) for child in elem)\n",
    "\n",
    "# Input reading\n",
    "n = int(input())\n",
    "xml_string = ''.join(input().strip() for _ in range(n))\n",
    "\n",
    "# Parse the XML\n",
    "root = ET.fromstring(xml_string)\n",
    "\n",
    "# Get max depth\n",
    "print(max_depth(root))\n"
   ]
  }
 ],
 "metadata": {
  "kernelspec": {
   "display_name": "Python 3",
   "language": "python",
   "name": "python3"
  },
  "language_info": {
   "codemirror_mode": {
    "name": "ipython",
    "version": 3
   },
   "file_extension": ".py",
   "mimetype": "text/x-python",
   "name": "python",
   "nbconvert_exporter": "python",
   "pygments_lexer": "ipython3",
   "version": "3.13.3"
  }
 },
 "nbformat": 4,
 "nbformat_minor": 5
}
