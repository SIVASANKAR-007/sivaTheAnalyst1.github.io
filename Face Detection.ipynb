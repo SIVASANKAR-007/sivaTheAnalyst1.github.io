{
 "cells": [
  {
   "cell_type": "code",
   "execution_count": 1,
   "id": "9c3eb72e",
   "metadata": {},
   "outputs": [
    {
     "name": "stdout",
     "output_type": "stream",
     "text": [
      "Defaulting to user installation because normal site-packages is not writeable\n",
      "Collecting opencv-python\n",
      "  Downloading opencv_python-4.11.0.86-cp37-abi3-win_amd64.whl.metadata (20 kB)\n",
      "Requirement already satisfied: numpy>=1.21.2 in c:\\users\\sivasankart\\appdata\\local\\packages\\pythonsoftwarefoundation.python.3.13_qbz5n2kfra8p0\\localcache\\local-packages\\python313\\site-packages (from opencv-python) (2.2.4)\n",
      "Downloading opencv_python-4.11.0.86-cp37-abi3-win_amd64.whl (39.5 MB)\n",
      "   ---------------------------------------- 0.0/39.5 MB ? eta -:--:--\n",
      "   ---------------------------------------- 0.0/39.5 MB ? eta -:--:--\n",
      "    --------------------------------------- 0.8/39.5 MB 3.5 MB/s eta 0:00:12\n",
      "   -- ------------------------------------- 2.6/39.5 MB 6.5 MB/s eta 0:00:06\n",
      "   -------- ------------------------------- 8.1/39.5 MB 13.9 MB/s eta 0:00:03\n",
      "   ------------- -------------------------- 13.4/39.5 MB 17.4 MB/s eta 0:00:02\n",
      "   -------------------- ------------------- 20.7/39.5 MB 20.5 MB/s eta 0:00:01\n",
      "   ------------------------------- -------- 30.7/39.5 MB 25.1 MB/s eta 0:00:01\n",
      "   ---------------------------------------  39.3/39.5 MB 27.9 MB/s eta 0:00:01\n",
      "   ---------------------------------------  39.3/39.5 MB 27.9 MB/s eta 0:00:01\n",
      "   ---------------------------------------- 39.5/39.5 MB 23.3 MB/s eta 0:00:00\n",
      "Installing collected packages: opencv-python\n",
      "Successfully installed opencv-python-4.11.0.86\n"
     ]
    },
    {
     "name": "stderr",
     "output_type": "stream",
     "text": [
      "\n",
      "[notice] A new release of pip is available: 25.0.1 -> 25.1.1\n",
      "[notice] To update, run: C:\\Users\\SivasankarT\\AppData\\Local\\Microsoft\\WindowsApps\\PythonSoftwareFoundation.Python.3.13_qbz5n2kfra8p0\\python.exe -m pip install --upgrade pip\n"
     ]
    },
    {
     "name": "stdout",
     "output_type": "stream",
     "text": [
      "Note: you may need to restart the kernel to use updated packages.\n"
     ]
    }
   ],
   "source": [
    "pip install opencv-python"
   ]
  },
  {
   "cell_type": "code",
   "execution_count": 3,
   "id": "198651db",
   "metadata": {},
   "outputs": [],
   "source": [
    "import cv2\n",
    "\n",
    "imagePath = ''"
   ]
  },
  {
   "cell_type": "code",
   "execution_count": 4,
   "id": "96282094",
   "metadata": {},
   "outputs": [],
   "source": [
    "img = cv2.imread(imagePath)"
   ]
  },
  {
   "cell_type": "code",
   "execution_count": 6,
   "id": "4acb822b",
   "metadata": {},
   "outputs": [
    {
     "data": {
      "text/plain": [
       "(4000, 2667, 3)"
      ]
     },
     "execution_count": 6,
     "metadata": {},
     "output_type": "execute_result"
    }
   ],
   "source": [
    "(4000, 2667, 3)"
   ]
  },
  {
   "cell_type": "code",
   "execution_count": 8,
   "id": "11fd2ee9",
   "metadata": {},
   "outputs": [
    {
     "ename": "ValueError",
     "evalue": "Image not loaded. Please set a valid imagePath and reload the image.",
     "output_type": "error",
     "traceback": [
      "\u001b[31m---------------------------------------------------------------------------\u001b[39m",
      "\u001b[31mValueError\u001b[39m                                Traceback (most recent call last)",
      "\u001b[36mCell\u001b[39m\u001b[36m \u001b[39m\u001b[32mIn[8]\u001b[39m\u001b[32m, line 2\u001b[39m\n\u001b[32m      1\u001b[39m \u001b[38;5;28;01mif\u001b[39;00m img \u001b[38;5;129;01mis\u001b[39;00m \u001b[38;5;28;01mNone\u001b[39;00m:\n\u001b[32m----> \u001b[39m\u001b[32m2\u001b[39m \t\u001b[38;5;28;01mraise\u001b[39;00m \u001b[38;5;167;01mValueError\u001b[39;00m(\u001b[33m\"\u001b[39m\u001b[33mImage not loaded. Please set a valid imagePath and reload the image.\u001b[39m\u001b[33m\"\u001b[39m)\n\u001b[32m      3\u001b[39m gray_image = cv2.cvtColor(img, cv2.COLOR_BGR2GRAY)\n",
      "\u001b[31mValueError\u001b[39m: Image not loaded. Please set a valid imagePath and reload the image."
     ]
    }
   ],
   "source": [
    "if img is None:\n",
    "\traise ValueError(\"Image not loaded. Please set a valid imagePath and reload the image.\")\n",
    "gray_image = cv2.cvtColor(img, cv2.COLOR_BGR2GRAY)"
   ]
  },
  {
   "cell_type": "code",
   "execution_count": 1,
   "id": "c3954805",
   "metadata": {},
   "outputs": [
    {
     "name": "stdout",
     "output_type": "stream",
     "text": [
      "1\n",
      "01\n",
      "101\n",
      "0101\n",
      "10101\n"
     ]
    }
   ],
   "source": [
    "n = 5\n",
    "for i in range (1,n+1):\n",
    "    for j in range(i):\n",
    "        print((i+j)%2,end =  '')\n",
    "    print()\n"
   ]
  },
  {
   "cell_type": "code",
   "execution_count": 3,
   "id": "ab1531ff",
   "metadata": {},
   "outputs": [
    {
     "name": "stdout",
     "output_type": "stream",
     "text": [
      "*     *\n",
      " *   * \n",
      "  * *  \n",
      "   *   \n",
      "  * *  \n",
      " *   * \n",
      "*     *\n"
     ]
    }
   ],
   "source": [
    "rows = 7\n",
    "\n",
    "for i in range(rows):\n",
    "    for j in range(rows):\n",
    "        if i == j or i + j == rows - 1:\n",
    "            print('*', end = '')\n",
    "        else:\n",
    "            print(' ', end = '')\n",
    "    print()"
   ]
  },
  {
   "cell_type": "code",
   "execution_count": 4,
   "id": "411a1a33",
   "metadata": {},
   "outputs": [
    {
     "ename": "Terminator",
     "evalue": "",
     "output_type": "error",
     "traceback": [
      "\u001b[31m---------------------------------------------------------------------------\u001b[39m",
      "\u001b[31mTerminator\u001b[39m                                Traceback (most recent call last)",
      "\u001b[36mCell\u001b[39m\u001b[36m \u001b[39m\u001b[32mIn[4]\u001b[39m\u001b[32m, line 11\u001b[39m\n\u001b[32m      9\u001b[39m forward(\u001b[32m130\u001b[39m)\n\u001b[32m     10\u001b[39m left(\u001b[32m3\u001b[39m)\n\u001b[32m---> \u001b[39m\u001b[32m11\u001b[39m \u001b[43mcircle\u001b[49m\u001b[43m(\u001b[49m\u001b[32;43m40\u001b[39;49m\u001b[43m)\u001b[49m\n\u001b[32m     12\u001b[39m forward(\u001b[32m130\u001b[39m)\n\u001b[32m     13\u001b[39m right(\u001b[32m180\u001b[39m)\n",
      "\u001b[36mFile \u001b[39m\u001b[32m<string>:5\u001b[39m, in \u001b[36mcircle\u001b[39m\u001b[34m(radius, extent, steps)\u001b[39m\n",
      "\u001b[31mTerminator\u001b[39m: "
     ]
    }
   ],
   "source": [
    "from turtle import *\n",
    "speed(0)\n",
    "bgcolor('black')\n",
    "colors = ['orange','white']\n",
    "hideturtle()\n",
    "for i in range(122):\n",
    "    goto(0,0)\n",
    "    color(colors[i%2])\n",
    "    forward(130)\n",
    "    left(3)\n",
    "    circle(40)\n",
    "    forward(130)\n",
    "    right(180)\n",
    "print('done')"
   ]
  }
 ],
 "metadata": {
  "kernelspec": {
   "display_name": "Python 3",
   "language": "python",
   "name": "python3"
  },
  "language_info": {
   "codemirror_mode": {
    "name": "ipython",
    "version": 3
   },
   "file_extension": ".py",
   "mimetype": "text/x-python",
   "name": "python",
   "nbconvert_exporter": "python",
   "pygments_lexer": "ipython3",
   "version": "3.13.3"
  }
 },
 "nbformat": 4,
 "nbformat_minor": 5
}
