{
 "cells": [
  {
   "cell_type": "code",
   "execution_count": 1,
   "id": "d28c4050",
   "metadata": {},
   "outputs": [
    {
     "name": "stdout",
     "output_type": "stream",
     "text": [
      "c:\\Users\\SivasankarT\\PY PROJ\\PYTHON\n"
     ]
    }
   ],
   "source": [
    "import os\n",
    "print(os.getcwd())"
   ]
  },
  {
   "cell_type": "code",
   "execution_count": 5,
   "id": "520a1256",
   "metadata": {},
   "outputs": [],
   "source": [
    "with open('amazing product.txt') as f:\n",
    "    text = f.read()"
   ]
  },
  {
   "cell_type": "code",
   "execution_count": 9,
   "id": "75d69c05",
   "metadata": {},
   "outputs": [],
   "source": [
    "amazingprod = text.split()"
   ]
  },
  {
   "cell_type": "code",
   "execution_count": null,
   "id": "0e8badc3",
   "metadata": {},
   "outputs": [
    {
     "name": "stdout",
     "output_type": "stream",
     "text": [
      "this: 1\n",
      "product: 3\n",
      "is: 1\n",
      "amazing: 2\n",
      "and: 1\n",
      "fast: 1\n",
      "delivery: 1\n",
      "not: 1\n",
      "a: 1\n",
      "good: 2\n",
      "really: 1\n",
      "quality: 1\n"
     ]
    }
   ],
   "source": [
    "word_counts = {}\n",
    "\n",
    "for word in amazingprod:\n",
    "    word = word.strip('.,!?')\n",
    "    if word in word_counts:\n",
    "        word_counts[word] += 1\n",
    "    else:\n",
    "        word_counts[word] = 1\n",
    "\n",
    "for word, count in word_counts.items():\n",
    "    print(f\"{word}: {count}\")   "
   ]
  },
  {
   "cell_type": "code",
   "execution_count": 12,
   "id": "a88009fa",
   "metadata": {},
   "outputs": [
    {
     "name": "stdout",
     "output_type": "stream",
     "text": [
      "name: clcoding\n",
      "age: 30\n",
      "city: Earth\n"
     ]
    }
   ],
   "source": [
    "def print_info(**kwargs):\n",
    "\n",
    "    \"\"\"print key_value pairs\n",
    "    from keyboard arguments.\"\"\"\n",
    "\n",
    "    for key, value in kwargs.items():\n",
    "        print(f\"{key}: {value}\")\n",
    "\n",
    "print_info(name=\"clcoding\",age=30,city=\"Earth\")"
   ]
  },
  {
   "cell_type": "code",
   "execution_count": 18,
   "id": "f3cd9599",
   "metadata": {},
   "outputs": [
    {
     "name": "stdout",
     "output_type": "stream",
     "text": [
      "hello, clcoding!\n",
      "hi, python!\n"
     ]
    }
   ],
   "source": [
    "def greet(name, greeting=\"hello\"):\n",
    "    \"\"\" greet someone with a provided\n",
    "    greeting or a default  greeting,\"\"\"\n",
    "    return f\"{greeting}, {name}!\"\n",
    "message = greet(\"clcoding\")\n",
    "print(message)\n",
    "\n",
    "message = greet(\"python\", \"hi\")\n",
    "print(message)"
   ]
  },
  {
   "cell_type": "code",
   "execution_count": 19,
   "id": "c3ba3cb8",
   "metadata": {},
   "outputs": [
    {
     "name": "stdout",
     "output_type": "stream",
     "text": [
      "15\n"
     ]
    }
   ],
   "source": [
    "def sum_all(*args):\n",
    "    \"\"\"sum all given argumensts.\"\"\"\n",
    "    return sum(args)\n",
    "total = sum_all(1,2,3,4,5)\n",
    "print(total)"
   ]
  },
  {
   "cell_type": "code",
   "execution_count": 2,
   "id": "2496a4f2",
   "metadata": {},
   "outputs": [
    {
     "name": "stdout",
     "output_type": "stream",
     "text": [
      "consecutive duplicate found: view at positions 1 & 2\n",
      "consecutive duplicate found: login at positions 4 & 5\n"
     ]
    }
   ],
   "source": [
    "logs = ['login', 'view', 'view', 'logout', 'login', 'login', 'logout']\n",
    "\n",
    "for i in range(1, len(logs)):\n",
    "    if logs[i] == logs[i- 1]:\n",
    "        print(f\"consecutive duplicate found: \"\n",
    "              f\"{logs[i]} at positions {i-1} & {i}\") "
   ]
  },
  {
   "cell_type": "code",
   "execution_count": 6,
   "id": "393d9b64",
   "metadata": {},
   "outputs": [
    {
     "name": "stdout",
     "output_type": "stream",
     "text": [
      "c\n"
     ]
    }
   ],
   "source": [
    "s = \"aabbcddeffgg\"\n",
    "#  find first non repeating letter in s\n",
    "for ch in s:\n",
    "    if s.count(ch) == 1:\n",
    "        print(ch)\n",
    "        break\n",
    "else:\n",
    "        print(\"none\")"
   ]
  },
  {
   "cell_type": "code",
   "execution_count": 1,
   "id": "2d56be1b",
   "metadata": {},
   "outputs": [
    {
     "name": "stdout",
     "output_type": "stream",
     "text": [
      "madam is a palindrome\n",
      "level is a palindrome\n"
     ]
    }
   ],
   "source": [
    "words = ['madam', 'hello', 'rececar', 'world', 'level']\n",
    "\n",
    "for word in words:\n",
    "    if word == word[::-1]:\n",
    "        print(f\"{word} is a palindrome\")"
   ]
  },
  {
   "cell_type": "code",
   "execution_count": 3,
   "id": "0f45b4fa",
   "metadata": {},
   "outputs": [
    {
     "name": "stdout",
     "output_type": "stream",
     "text": [
      "Not Eligible To Play\n"
     ]
    }
   ],
   "source": [
    "player_age= 16\n",
    "minimum_age = 18\n",
    "\n",
    "if player_age >= minimum_age:\n",
    "    print(\"Eligible to Play\")\n",
    "else:\n",
    "    print(\"Not Eligible To Play\")"
   ]
  },
  {
   "cell_type": "code",
   "execution_count": 3,
   "id": "39ca0508",
   "metadata": {},
   "outputs": [
    {
     "name": "stdout",
     "output_type": "stream",
     "text": [
      "the number of vowels in the string is : 0\n"
     ]
    }
   ],
   "source": [
    "def count_vowels(input_string):\n",
    "    vowels=\"aeiouAEIOU\"\n",
    "    count=0\n",
    "    for char in input_string:\n",
    "        if char in vowels:\n",
    "            count += 1\n",
    "    return count\n",
    "user_input = input(\"Enter A String: \")\n",
    "\n",
    "vowel_count = count_vowels(user_input)\n",
    "\n",
    "print(f\"the number of vowels in the string is : {vowel_count}\")\n"
   ]
  },
  {
   "cell_type": "code",
   "execution_count": 14,
   "id": "46c7f7e3",
   "metadata": {},
   "outputs": [
    {
     "name": "stdout",
     "output_type": "stream",
     "text": [
      "your good to go\n"
     ]
    }
   ],
   "source": [
    "a=int(input(\"a:\"))\n",
    "b=int(input(\"b:\"))\n",
    "c=int(input(\"c:\"))\n",
    "d=int(input(\"d:\"))\n",
    "e=int(input(\"e:\"))\n",
    "f=(a+b+c+d+e)/5\n",
    "if(f<35):\n",
    "    print(\"additional class is required\")\n",
    "else:\n",
    "    print(\"your good to go\")"
   ]
  },
  {
   "cell_type": "code",
   "execution_count": 9,
   "id": "6e94daee",
   "metadata": {},
   "outputs": [
    {
     "name": "stdout",
     "output_type": "stream",
     "text": [
      "Note: you may need to restart the kernel to use updated packages.\n"
     ]
    }
   ],
   "source": [
    "pip install pandas -q"
   ]
  },
  {
   "cell_type": "code",
   "execution_count": 11,
   "id": "bc3cee66",
   "metadata": {},
   "outputs": [
    {
     "name": "stdout",
     "output_type": "stream",
     "text": [
      "Note: you may need to restart the kernel to use updated packages.\n"
     ]
    }
   ],
   "source": [
    "pip install nbformat -q"
   ]
  },
  {
   "cell_type": "code",
   "execution_count": 13,
   "id": "a533a1c1",
   "metadata": {},
   "outputs": [
    {
     "name": "stdout",
     "output_type": "stream",
     "text": [
      "Note: you may need to restart the kernel to use updated packages.\n"
     ]
    },
    {
     "name": "stderr",
     "output_type": "stream",
     "text": [
      "WARNING: Retrying (Retry(total=4, connect=None, read=None, redirect=None, status=None)) after connection broken by 'NewConnectionError('<pip._vendor.urllib3.connection.HTTPSConnection object at 0x000002A1E41F4980>: Failed to establish a new connection: [Errno 11001] getaddrinfo failed')': /simple/nbformat/\n",
      "WARNING: Retrying (Retry(total=3, connect=None, read=None, redirect=None, status=None)) after connection broken by 'NewConnectionError('<pip._vendor.urllib3.connection.HTTPSConnection object at 0x000002A1E41B6350>: Failed to establish a new connection: [Errno 11001] getaddrinfo failed')': /simple/nbformat/\n",
      "WARNING: Retrying (Retry(total=2, connect=None, read=None, redirect=None, status=None)) after connection broken by 'NewConnectionError('<pip._vendor.urllib3.connection.HTTPSConnection object at 0x000002A1E41B65D0>: Failed to establish a new connection: [Errno 11001] getaddrinfo failed')': /simple/nbformat/\n",
      "WARNING: Retrying (Retry(total=1, connect=None, read=None, redirect=None, status=None)) after connection broken by 'NewConnectionError('<pip._vendor.urllib3.connection.HTTPSConnection object at 0x000002A1E41B6850>: Failed to establish a new connection: [Errno 11001] getaddrinfo failed')': /simple/nbformat/\n",
      "WARNING: Retrying (Retry(total=0, connect=None, read=None, redirect=None, status=None)) after connection broken by 'NewConnectionError('<pip._vendor.urllib3.connection.HTTPSConnection object at 0x000002A1E41B6AD0>: Failed to establish a new connection: [Errno 11001] getaddrinfo failed')': /simple/nbformat/\n",
      "ERROR: Could not find a version that satisfies the requirement nbformat (from versions: none)\n",
      "ERROR: No matching distribution found for nbformat\n"
     ]
    }
   ],
   "source": [
    "pip install nbformat --user --force-reinstall -q"
   ]
  },
  {
   "cell_type": "code",
   "execution_count": 10,
   "id": "2039aa66",
   "metadata": {},
   "outputs": [
    {
     "ename": "ValueError",
     "evalue": "Mime type rendering requires nbformat>=4.2.0 but it is not installed",
     "output_type": "error",
     "traceback": [
      "\u001b[31m---------------------------------------------------------------------------\u001b[39m",
      "\u001b[31mValueError\u001b[39m                                Traceback (most recent call last)",
      "\u001b[36mCell\u001b[39m\u001b[36m \u001b[39m\u001b[32mIn[10]\u001b[39m\u001b[32m, line 21\u001b[39m\n\u001b[32m     18\u001b[39m fig.update_layout(title_text=\u001b[33m\"\u001b[39m\u001b[33mSunburst Chart\u001b[39m\u001b[33m\"\u001b[39m)\n\u001b[32m     20\u001b[39m \u001b[38;5;66;03m# Show the chart\u001b[39;00m\n\u001b[32m---> \u001b[39m\u001b[32m21\u001b[39m \u001b[43mfig\u001b[49m\u001b[43m.\u001b[49m\u001b[43mshow\u001b[49m\u001b[43m(\u001b[49m\u001b[43m)\u001b[49m\n",
      "\u001b[36mFile \u001b[39m\u001b[32m~\\AppData\\Local\\Packages\\PythonSoftwareFoundation.Python.3.13_qbz5n2kfra8p0\\LocalCache\\local-packages\\Python313\\site-packages\\plotly\\basedatatypes.py:3414\u001b[39m, in \u001b[36mBaseFigure.show\u001b[39m\u001b[34m(self, *args, **kwargs)\u001b[39m\n\u001b[32m   3381\u001b[39m \u001b[38;5;250m\u001b[39m\u001b[33;03m\"\"\"\u001b[39;00m\n\u001b[32m   3382\u001b[39m \u001b[33;03mShow a figure using either the default renderer(s) or the renderer(s)\u001b[39;00m\n\u001b[32m   3383\u001b[39m \u001b[33;03mspecified by the renderer argument\u001b[39;00m\n\u001b[32m   (...)\u001b[39m\u001b[32m   3410\u001b[39m \u001b[33;03mNone\u001b[39;00m\n\u001b[32m   3411\u001b[39m \u001b[33;03m\"\"\"\u001b[39;00m\n\u001b[32m   3412\u001b[39m \u001b[38;5;28;01mimport\u001b[39;00m\u001b[38;5;250m \u001b[39m\u001b[34;01mplotly\u001b[39;00m\u001b[34;01m.\u001b[39;00m\u001b[34;01mio\u001b[39;00m\u001b[38;5;250m \u001b[39m\u001b[38;5;28;01mas\u001b[39;00m\u001b[38;5;250m \u001b[39m\u001b[34;01mpio\u001b[39;00m\n\u001b[32m-> \u001b[39m\u001b[32m3414\u001b[39m \u001b[38;5;28;01mreturn\u001b[39;00m \u001b[43mpio\u001b[49m\u001b[43m.\u001b[49m\u001b[43mshow\u001b[49m\u001b[43m(\u001b[49m\u001b[38;5;28;43mself\u001b[39;49m\u001b[43m,\u001b[49m\u001b[43m \u001b[49m\u001b[43m*\u001b[49m\u001b[43margs\u001b[49m\u001b[43m,\u001b[49m\u001b[43m \u001b[49m\u001b[43m*\u001b[49m\u001b[43m*\u001b[49m\u001b[43mkwargs\u001b[49m\u001b[43m)\u001b[49m\n",
      "\u001b[36mFile \u001b[39m\u001b[32m~\\AppData\\Local\\Packages\\PythonSoftwareFoundation.Python.3.13_qbz5n2kfra8p0\\LocalCache\\local-packages\\Python313\\site-packages\\plotly\\io\\_renderers.py:425\u001b[39m, in \u001b[36mshow\u001b[39m\u001b[34m(fig, renderer, validate, **kwargs)\u001b[39m\n\u001b[32m    420\u001b[39m     \u001b[38;5;28;01mraise\u001b[39;00m \u001b[38;5;167;01mValueError\u001b[39;00m(\n\u001b[32m    421\u001b[39m         \u001b[33m\"\u001b[39m\u001b[33mMime type rendering requires ipython but it is not installed\u001b[39m\u001b[33m\"\u001b[39m\n\u001b[32m    422\u001b[39m     )\n\u001b[32m    424\u001b[39m \u001b[38;5;28;01mif\u001b[39;00m \u001b[38;5;129;01mnot\u001b[39;00m nbformat \u001b[38;5;129;01mor\u001b[39;00m Version(nbformat.__version__) < Version(\u001b[33m\"\u001b[39m\u001b[33m4.2.0\u001b[39m\u001b[33m\"\u001b[39m):\n\u001b[32m--> \u001b[39m\u001b[32m425\u001b[39m     \u001b[38;5;28;01mraise\u001b[39;00m \u001b[38;5;167;01mValueError\u001b[39;00m(\n\u001b[32m    426\u001b[39m         \u001b[33m\"\u001b[39m\u001b[33mMime type rendering requires nbformat>=4.2.0 but it is not installed\u001b[39m\u001b[33m\"\u001b[39m\n\u001b[32m    427\u001b[39m     )\n\u001b[32m    429\u001b[39m display_jupyter_version_warnings()\n\u001b[32m    431\u001b[39m ipython_display.display(bundle, raw=\u001b[38;5;28;01mTrue\u001b[39;00m)\n",
      "\u001b[31mValueError\u001b[39m: Mime type rendering requires nbformat>=4.2.0 but it is not installed"
     ]
    }
   ],
   "source": [
    "import plotly.express as px\n",
    "import pandas as pd  # ← You need pandas for creating a DataFrame\n",
    "\n",
    "# Define the data\n",
    "data = {\n",
    "    'id': [\"A\", \"B\", \"C\", \"D\", \"E\", \"F\", \"G\"],\n",
    "    'parent': [\"\", \"A\", \"A\", \"B\", \"B\", \"C\", \"D\"],\n",
    "    'value': [10, 15, 7, 8, 12, 6, 5]\n",
    "}\n",
    "\n",
    "# Convert dictionary to DataFrame\n",
    "df = pd.DataFrame(data)\n",
    "\n",
    "# Create a sunburst chart\n",
    "fig = px.sunburst(df, names='id', parents='parent', values='value')\n",
    "\n",
    "# Set the chart title\n",
    "fig.update_layout(title_text=\"Sunburst Chart\")\n",
    "\n",
    "# Show the chart\n",
    "fig.show()\n"
   ]
  },
  {
   "cell_type": "code",
   "execution_count": null,
   "id": "c3efd921",
   "metadata": {},
   "outputs": [
    {
     "name": "stdout",
     "output_type": "stream",
     "text": [
      "22\n"
     ]
    }
   ],
   "source": [
    "def add(x,y):\n",
    "    return x + y\n",
    "def multiply(x,y):\n",
    "    return x * y\n",
    "def subtract(x,y):\n",
    "    return x - y\n",
    "def pipe(value,*functions):\n",
    "    for func,arg in functions:\n",
    "        value = func(value,arg)\n",
    "    return value\n",
    "result = pipe(5,(add, 3), (multiply, 4), (subtract, 10))\n",
    "print(result)"
   ]
  },
  {
   "cell_type": "code",
   "execution_count": 3,
   "id": "5668a1ee",
   "metadata": {},
   "outputs": [
    {
     "ename": "NameError",
     "evalue": "name 'px' is not defined",
     "output_type": "error",
     "traceback": [
      "\u001b[31m---------------------------------------------------------------------------\u001b[39m",
      "\u001b[31mNameError\u001b[39m                                 Traceback (most recent call last)",
      "\u001b[36mCell\u001b[39m\u001b[36m \u001b[39m\u001b[32mIn[3]\u001b[39m\u001b[32m, line 7\u001b[39m\n\u001b[32m      1\u001b[39m data = {\n\u001b[32m      2\u001b[39m     \u001b[33m'\u001b[39m\u001b[33mid\u001b[39m\u001b[33m'\u001b[39m:[\u001b[33m\"\u001b[39m\u001b[33mA\u001b[39m\u001b[33m\"\u001b[39m, \u001b[33m\"\u001b[39m\u001b[33mB\u001b[39m\u001b[33m\"\u001b[39m, \u001b[33m\"\u001b[39m\u001b[33mC\u001b[39m\u001b[33m\"\u001b[39m, \u001b[33m\"\u001b[39m\u001b[33mD\u001b[39m\u001b[33m\"\u001b[39m, \u001b[33m\"\u001b[39m\u001b[33mE\u001b[39m\u001b[33m\"\u001b[39m, \u001b[33m\"\u001b[39m\u001b[33mF\u001b[39m\u001b[33m\"\u001b[39m, \u001b[33m\"\u001b[39m\u001b[33mG\u001b[39m\u001b[33m\"\u001b[39m],\n\u001b[32m      3\u001b[39m     \u001b[33m'\u001b[39m\u001b[33mparent\u001b[39m\u001b[33m'\u001b[39m:[\u001b[33m\"\u001b[39m\u001b[33m\"\u001b[39m, \u001b[33m\"\u001b[39m\u001b[33mA\u001b[39m\u001b[33m\"\u001b[39m, \u001b[33m\"\u001b[39m\u001b[33mA\u001b[39m\u001b[33m\"\u001b[39m, \u001b[33m\"\u001b[39m\u001b[33mB\u001b[39m\u001b[33m\"\u001b[39m, \u001b[33m\"\u001b[39m\u001b[33mB\u001b[39m\u001b[33m\"\u001b[39m, \u001b[33m\"\u001b[39m\u001b[33mC\u001b[39m\u001b[33m\"\u001b[39m, \u001b[33m\"\u001b[39m\u001b[33mD\u001b[39m\u001b[33m\"\u001b[39m],\n\u001b[32m      4\u001b[39m     \u001b[33m'\u001b[39m\u001b[33mvalue\u001b[39m\u001b[33m'\u001b[39m:[\u001b[32m10\u001b[39m, \u001b[32m15\u001b[39m, \u001b[32m7\u001b[39m, \u001b[32m8\u001b[39m, \u001b[32m12\u001b[39m, \u001b[32m6\u001b[39m, \u001b[32m5\u001b[39m]\n\u001b[32m      5\u001b[39m }\n\u001b[32m      6\u001b[39m \u001b[38;5;66;03m# create a sunburst chart\u001b[39;00m\n\u001b[32m----> \u001b[39m\u001b[32m7\u001b[39m fig = \u001b[43mpx\u001b[49m.sunburst(data, names=\u001b[33m'\u001b[39m\u001b[33mid\u001b[39m\u001b[33m'\u001b[39m, parents=\u001b[33m'\u001b[39m\u001b[33mparent\u001b[39m\u001b[33m'\u001b[39m, values=\u001b[33m'\u001b[39m\u001b[33mvalue\u001b[39m\u001b[33m'\u001b[39m)\n\u001b[32m      9\u001b[39m \u001b[38;5;66;03m# set the chart Title\u001b[39;00m\n\u001b[32m     10\u001b[39m fig.update_layout(title_text=\u001b[33m\"\u001b[39m\u001b[33msunburst chart\u001b[39m\u001b[33m\"\u001b[39m)\n",
      "\u001b[31mNameError\u001b[39m: name 'px' is not defined"
     ]
    }
   ],
   "source": [
    "data = {\n",
    "    'id':[\"A\", \"B\", \"C\", \"D\", \"E\", \"F\", \"G\"],\n",
    "    'parent':[\"\", \"A\", \"A\", \"B\", \"B\", \"C\", \"D\"],\n",
    "    'value':[10, 15, 7, 8, 12, 6, 5]\n",
    "}\n",
    "# create a sunburst chart\n",
    "fig = px.sunburst(data, names='id', parents='parent', values='value')\n",
    "\n",
    "# set the chart Title\n",
    "fig.update_layout(title_text=\"sunburst chart\")\n",
    "\n",
    "# show the chart\n",
    "fig.show()"
   ]
  },
  {
   "cell_type": "code",
   "execution_count": 40,
   "id": "13d5ec76",
   "metadata": {},
   "outputs": [
    {
     "ename": "ImportError",
     "evalue": "Plotly Express requires numpy to be installed. You can install numpy using pip with:\n\n$ pip install numpy\n\nOr install Plotly Express and its dependencies directly with:\n\n$ pip install \"plotly[express]\"\n\nYou can also use Plotly Graph Objects to create a large number of charts without installing\nnumpy. See examples here: https://plotly.com/python/graph-objects/\n",
     "output_type": "error",
     "traceback": [
      "\u001b[31m---------------------------------------------------------------------------\u001b[39m",
      "\u001b[31mImportError\u001b[39m                               Traceback (most recent call last)",
      "\u001b[36mCell\u001b[39m\u001b[36m \u001b[39m\u001b[32mIn[40]\u001b[39m\u001b[32m, line 1\u001b[39m\n\u001b[32m----> \u001b[39m\u001b[32m1\u001b[39m \u001b[38;5;28;01mimport\u001b[39;00m\u001b[38;5;250m \u001b[39m\u001b[34;01mplotly\u001b[39;00m\u001b[34;01m.\u001b[39;00m\u001b[34;01mexpress\u001b[39;00m\u001b[38;5;250m \u001b[39m\u001b[38;5;28;01mas\u001b[39;00m\u001b[38;5;250m \u001b[39m\u001b[34;01mpx\u001b[39;00m\n\u001b[32m      3\u001b[39m data = {\n\u001b[32m      4\u001b[39m     \u001b[33m'\u001b[39m\u001b[33mid\u001b[39m\u001b[33m'\u001b[39m:[\u001b[33m\"\u001b[39m\u001b[33mA\u001b[39m\u001b[33m\"\u001b[39m, \u001b[33m\"\u001b[39m\u001b[33mB\u001b[39m\u001b[33m\"\u001b[39m, \u001b[33m\"\u001b[39m\u001b[33mC\u001b[39m\u001b[33m\"\u001b[39m, \u001b[33m\"\u001b[39m\u001b[33mD\u001b[39m\u001b[33m\"\u001b[39m, \u001b[33m\"\u001b[39m\u001b[33mE\u001b[39m\u001b[33m\"\u001b[39m, \u001b[33m\"\u001b[39m\u001b[33mF\u001b[39m\u001b[33m\"\u001b[39m, \u001b[33m\"\u001b[39m\u001b[33mG\u001b[39m\u001b[33m\"\u001b[39m],\n\u001b[32m      5\u001b[39m     \u001b[33m'\u001b[39m\u001b[33mparent\u001b[39m\u001b[33m'\u001b[39m:[\u001b[33m\"\u001b[39m\u001b[33m\"\u001b[39m, \u001b[33m\"\u001b[39m\u001b[33mA\u001b[39m\u001b[33m\"\u001b[39m, \u001b[33m\"\u001b[39m\u001b[33mA\u001b[39m\u001b[33m\"\u001b[39m, \u001b[33m\"\u001b[39m\u001b[33mB\u001b[39m\u001b[33m\"\u001b[39m, \u001b[33m\"\u001b[39m\u001b[33mB\u001b[39m\u001b[33m\"\u001b[39m, \u001b[33m\"\u001b[39m\u001b[33mC\u001b[39m\u001b[33m\"\u001b[39m, \u001b[33m\"\u001b[39m\u001b[33mD\u001b[39m\u001b[33m\"\u001b[39m],\n\u001b[32m      6\u001b[39m     \u001b[33m'\u001b[39m\u001b[33mvalue\u001b[39m\u001b[33m'\u001b[39m:[\u001b[32m10\u001b[39m, \u001b[32m15\u001b[39m, \u001b[32m7\u001b[39m, \u001b[32m8\u001b[39m, \u001b[32m12\u001b[39m, \u001b[32m6\u001b[39m, \u001b[32m5\u001b[39m]\n\u001b[32m      7\u001b[39m }\n\u001b[32m      8\u001b[39m \u001b[38;5;66;03m# create a sunburst chart\u001b[39;00m\n",
      "\u001b[36mFile \u001b[39m\u001b[32m~\\AppData\\Local\\Packages\\PythonSoftwareFoundation.Python.3.13_qbz5n2kfra8p0\\LocalCache\\local-packages\\Python313\\site-packages\\plotly\\express\\__init__.py:10\u001b[39m\n\u001b[32m      8\u001b[39m np = optional_imports.get_module(\u001b[33m\"\u001b[39m\u001b[33mnumpy\u001b[39m\u001b[33m\"\u001b[39m)\n\u001b[32m      9\u001b[39m \u001b[38;5;28;01mif\u001b[39;00m np \u001b[38;5;129;01mis\u001b[39;00m \u001b[38;5;28;01mNone\u001b[39;00m:\n\u001b[32m---> \u001b[39m\u001b[32m10\u001b[39m     \u001b[38;5;28;01mraise\u001b[39;00m \u001b[38;5;167;01mImportError\u001b[39;00m(\n\u001b[32m     11\u001b[39m \u001b[38;5;250m        \u001b[39m\u001b[33;03m\"\"\"\\\u001b[39;00m\n\u001b[32m     12\u001b[39m \u001b[33;03mPlotly Express requires numpy to be installed. You can install numpy using pip with:\u001b[39;00m\n\u001b[32m     13\u001b[39m \n\u001b[32m     14\u001b[39m \u001b[33;03m$ pip install numpy\u001b[39;00m\n\u001b[32m     15\u001b[39m \n\u001b[32m     16\u001b[39m \u001b[33;03mOr install Plotly Express and its dependencies directly with:\u001b[39;00m\n\u001b[32m     17\u001b[39m \n\u001b[32m     18\u001b[39m \u001b[33;03m$ pip install \"plotly[express]\"\u001b[39;00m\n\u001b[32m     19\u001b[39m \n\u001b[32m     20\u001b[39m \u001b[33;03mYou can also use Plotly Graph Objects to create a large number of charts without installing\u001b[39;00m\n\u001b[32m     21\u001b[39m \u001b[33;03mnumpy. See examples here: https://plotly.com/python/graph-objects/\u001b[39;00m\n\u001b[32m     22\u001b[39m \u001b[33;03m\"\"\"\u001b[39;00m\n\u001b[32m     23\u001b[39m     )\n\u001b[32m     25\u001b[39m \u001b[38;5;28;01mfrom\u001b[39;00m\u001b[38;5;250m \u001b[39m\u001b[34;01m.\u001b[39;00m\u001b[34;01m_imshow\u001b[39;00m\u001b[38;5;250m \u001b[39m\u001b[38;5;28;01mimport\u001b[39;00m imshow\n\u001b[32m     26\u001b[39m \u001b[38;5;28;01mfrom\u001b[39;00m\u001b[38;5;250m \u001b[39m\u001b[34;01m.\u001b[39;00m\u001b[34;01m_chart_types\u001b[39;00m\u001b[38;5;250m \u001b[39m\u001b[38;5;28;01mimport\u001b[39;00m (  \u001b[38;5;66;03m# noqa: F401\u001b[39;00m\n\u001b[32m     27\u001b[39m     scatter,\n\u001b[32m     28\u001b[39m     scatter_3d,\n\u001b[32m   (...)\u001b[39m\u001b[32m     65\u001b[39m     density_mapbox,\n\u001b[32m     66\u001b[39m )\n",
      "\u001b[31mImportError\u001b[39m: Plotly Express requires numpy to be installed. You can install numpy using pip with:\n\n$ pip install numpy\n\nOr install Plotly Express and its dependencies directly with:\n\n$ pip install \"plotly[express]\"\n\nYou can also use Plotly Graph Objects to create a large number of charts without installing\nnumpy. See examples here: https://plotly.com/python/graph-objects/\n"
     ]
    }
   ],
   "source": [
    "import plotly.express as px\n",
    "\n",
    "data = {\n",
    "    'id':[\"A\", \"B\", \"C\", \"D\", \"E\", \"F\", \"G\"],\n",
    "    'parent':[\"\", \"A\", \"A\", \"B\", \"B\", \"C\", \"D\"],\n",
    "    'value':[10, 15, 7, 8, 12, 6, 5]\n",
    "}\n",
    "# create a sunburst chart\n",
    "fig = px.sunburst(data, names='id', parents='parent', values='value')\n",
    "\n",
    "# set the chart Title\n",
    "fig.update_layout(title_text=\"sunburst chart\")\n",
    "\n",
    "# show the chart\n",
    "fig.show()"
   ]
  },
  {
   "cell_type": "code",
   "execution_count": 30,
   "id": "f1fc2d47",
   "metadata": {},
   "outputs": [
    {
     "ename": "ImportError",
     "evalue": "Plotly Express requires numpy to be installed. You can install numpy using pip with:\n\n$ pip install numpy\n\nOr install Plotly Express and its dependencies directly with:\n\n$ pip install \"plotly[express]\"\n\nYou can also use Plotly Graph Objects to create a large number of charts without installing\nnumpy. See examples here: https://plotly.com/python/graph-objects/\n",
     "output_type": "error",
     "traceback": [
      "\u001b[31m---------------------------------------------------------------------------\u001b[39m",
      "\u001b[31mImportError\u001b[39m                               Traceback (most recent call last)",
      "\u001b[36mCell\u001b[39m\u001b[36m \u001b[39m\u001b[32mIn[30]\u001b[39m\u001b[32m, line 1\u001b[39m\n\u001b[32m----> \u001b[39m\u001b[32m1\u001b[39m \u001b[38;5;28;01mimport\u001b[39;00m\u001b[38;5;250m \u001b[39m\u001b[34;01mplotly\u001b[39;00m\u001b[34;01m.\u001b[39;00m\u001b[34;01mexpress\u001b[39;00m\u001b[38;5;250m \u001b[39m\u001b[38;5;28;01mas\u001b[39;00m\u001b[38;5;250m \u001b[39m\u001b[34;01mpx\u001b[39;00m\n\u001b[32m      3\u001b[39m data = {\n\u001b[32m      4\u001b[39m     \u001b[33m'\u001b[39m\u001b[33mid\u001b[39m\u001b[33m'\u001b[39m:[\u001b[33m\"\u001b[39m\u001b[33mA\u001b[39m\u001b[33m\"\u001b[39m, \u001b[33m\"\u001b[39m\u001b[33mB\u001b[39m\u001b[33m\"\u001b[39m, \u001b[33m\"\u001b[39m\u001b[33mC\u001b[39m\u001b[33m\"\u001b[39m, \u001b[33m\"\u001b[39m\u001b[33mD\u001b[39m\u001b[33m\"\u001b[39m, \u001b[33m\"\u001b[39m\u001b[33mE\u001b[39m\u001b[33m\"\u001b[39m, \u001b[33m\"\u001b[39m\u001b[33mF\u001b[39m\u001b[33m\"\u001b[39m, \u001b[33m\"\u001b[39m\u001b[33mG\u001b[39m\u001b[33m\"\u001b[39m],\n\u001b[32m      5\u001b[39m     \u001b[33m'\u001b[39m\u001b[33mparent\u001b[39m\u001b[33m'\u001b[39m:[\u001b[33m\"\u001b[39m\u001b[33m\"\u001b[39m, \u001b[33m\"\u001b[39m\u001b[33mA\u001b[39m\u001b[33m\"\u001b[39m, \u001b[33m\"\u001b[39m\u001b[33mA\u001b[39m\u001b[33m\"\u001b[39m, \u001b[33m\"\u001b[39m\u001b[33mB\u001b[39m\u001b[33m\"\u001b[39m, \u001b[33m\"\u001b[39m\u001b[33mB\u001b[39m\u001b[33m\"\u001b[39m, \u001b[33m\"\u001b[39m\u001b[33mC\u001b[39m\u001b[33m\"\u001b[39m, \u001b[33m\"\u001b[39m\u001b[33mD\u001b[39m\u001b[33m\"\u001b[39m],\n\u001b[32m      6\u001b[39m     \u001b[33m'\u001b[39m\u001b[33mvalue\u001b[39m\u001b[33m'\u001b[39m:[\u001b[32m10\u001b[39m, \u001b[32m15\u001b[39m, \u001b[32m7\u001b[39m, \u001b[32m8\u001b[39m, \u001b[32m12\u001b[39m, \u001b[32m6\u001b[39m, \u001b[32m5\u001b[39m]\n\u001b[32m      7\u001b[39m }\n\u001b[32m      8\u001b[39m \u001b[38;5;66;03m# create a sunburst chart\u001b[39;00m\n",
      "\u001b[36mFile \u001b[39m\u001b[32m~\\AppData\\Local\\Packages\\PythonSoftwareFoundation.Python.3.13_qbz5n2kfra8p0\\LocalCache\\local-packages\\Python313\\site-packages\\plotly\\express\\__init__.py:10\u001b[39m\n\u001b[32m      8\u001b[39m np = optional_imports.get_module(\u001b[33m\"\u001b[39m\u001b[33mnumpy\u001b[39m\u001b[33m\"\u001b[39m)\n\u001b[32m      9\u001b[39m \u001b[38;5;28;01mif\u001b[39;00m np \u001b[38;5;129;01mis\u001b[39;00m \u001b[38;5;28;01mNone\u001b[39;00m:\n\u001b[32m---> \u001b[39m\u001b[32m10\u001b[39m     \u001b[38;5;28;01mraise\u001b[39;00m \u001b[38;5;167;01mImportError\u001b[39;00m(\n\u001b[32m     11\u001b[39m \u001b[38;5;250m        \u001b[39m\u001b[33;03m\"\"\"\\\u001b[39;00m\n\u001b[32m     12\u001b[39m \u001b[33;03mPlotly Express requires numpy to be installed. You can install numpy using pip with:\u001b[39;00m\n\u001b[32m     13\u001b[39m \n\u001b[32m     14\u001b[39m \u001b[33;03m$ pip install numpy\u001b[39;00m\n\u001b[32m     15\u001b[39m \n\u001b[32m     16\u001b[39m \u001b[33;03mOr install Plotly Express and its dependencies directly with:\u001b[39;00m\n\u001b[32m     17\u001b[39m \n\u001b[32m     18\u001b[39m \u001b[33;03m$ pip install \"plotly[express]\"\u001b[39;00m\n\u001b[32m     19\u001b[39m \n\u001b[32m     20\u001b[39m \u001b[33;03mYou can also use Plotly Graph Objects to create a large number of charts without installing\u001b[39;00m\n\u001b[32m     21\u001b[39m \u001b[33;03mnumpy. See examples here: https://plotly.com/python/graph-objects/\u001b[39;00m\n\u001b[32m     22\u001b[39m \u001b[33;03m\"\"\"\u001b[39;00m\n\u001b[32m     23\u001b[39m     )\n\u001b[32m     25\u001b[39m \u001b[38;5;28;01mfrom\u001b[39;00m\u001b[38;5;250m \u001b[39m\u001b[34;01m.\u001b[39;00m\u001b[34;01m_imshow\u001b[39;00m\u001b[38;5;250m \u001b[39m\u001b[38;5;28;01mimport\u001b[39;00m imshow\n\u001b[32m     26\u001b[39m \u001b[38;5;28;01mfrom\u001b[39;00m\u001b[38;5;250m \u001b[39m\u001b[34;01m.\u001b[39;00m\u001b[34;01m_chart_types\u001b[39;00m\u001b[38;5;250m \u001b[39m\u001b[38;5;28;01mimport\u001b[39;00m (  \u001b[38;5;66;03m# noqa: F401\u001b[39;00m\n\u001b[32m     27\u001b[39m     scatter,\n\u001b[32m     28\u001b[39m     scatter_3d,\n\u001b[32m   (...)\u001b[39m\u001b[32m     65\u001b[39m     density_mapbox,\n\u001b[32m     66\u001b[39m )\n",
      "\u001b[31mImportError\u001b[39m: Plotly Express requires numpy to be installed. You can install numpy using pip with:\n\n$ pip install numpy\n\nOr install Plotly Express and its dependencies directly with:\n\n$ pip install \"plotly[express]\"\n\nYou can also use Plotly Graph Objects to create a large number of charts without installing\nnumpy. See examples here: https://plotly.com/python/graph-objects/\n"
     ]
    }
   ],
   "source": [
    "import plotly.express as px\n",
    "\n",
    "data = {\n",
    "    'id':[\"A\", \"B\", \"C\", \"D\", \"E\", \"F\", \"G\"],\n",
    "    'parent':[\"\", \"A\", \"A\", \"B\", \"B\", \"C\", \"D\"],\n",
    "    'value':[10, 15, 7, 8, 12, 6, 5]\n",
    "}\n",
    "# create a sunburst chart\n",
    "fig = px.sunburst(data, names='id', parents='parent', values='value')\n",
    "\n",
    "# set the chart Title\n",
    "fig.update_layout(title_text=\"sunburst chart\")\n",
    "\n",
    "# show the chart\n",
    "fig.show()"
   ]
  }
 ],
 "metadata": {
  "kernelspec": {
   "display_name": "Python 3",
   "language": "python",
   "name": "python3"
  },
  "language_info": {
   "codemirror_mode": {
    "name": "ipython",
    "version": 3
   },
   "file_extension": ".py",
   "mimetype": "text/x-python",
   "name": "python",
   "nbconvert_exporter": "python",
   "pygments_lexer": "ipython3",
   "version": "3.13.3"
  }
 },
 "nbformat": 4,
 "nbformat_minor": 5
}
