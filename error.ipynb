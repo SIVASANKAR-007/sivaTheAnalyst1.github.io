{
 "cells": [
  {
   "cell_type": "code",
   "execution_count": null,
   "id": "ea0aa911",
   "metadata": {},
   "outputs": [],
   "source": [
    "import plotly.express as px\n",
    "\n",
    "data = {\n",
    "    'id':[\"A\", \"B\", \"C\", \"D\", \"E\", \"F\", \"G\"],\n",
    "    'parent':[\"\", \"A\", \"A\", \"B\", \"B\", \"C\", \"D\"],\n",
    "    'value':[10, 15, 7, 8, 12, 6, 5]\n",
    "}\n",
    "# create a sunburst chart\n",
    "fig = px.sunburst(data, names='id', parents='parent', values='value')\n",
    "\n",
    "# set the chart Title\n",
    "fig.update_layout(title_text=\"sunburst chart\")\n",
    "\n",
    "# show the chart\n",
    "fig.show()"
   ]
  },
  {
   "cell_type": "code",
   "execution_count": 1,
   "id": "a99fd99c",
   "metadata": {},
   "outputs": [
    {
     "name": "stdout",
     "output_type": "stream",
     "text": [
      "True\n",
      "False\n"
     ]
    }
   ],
   "source": [
    "a = [1,2,3]\n",
    "b = [1,2,3]\n",
    "\n",
    "print(a == b)\n",
    "print(a is b)\n"
   ]
  },
  {
   "cell_type": "code",
   "execution_count": null,
   "id": "67fd639f",
   "metadata": {},
   "outputs": [],
   "source": [
    "import plotly.express as px\n",
    "import pandas as pd\n",
    "\n",
    "data = {\n",
    "    'id': [\"A\", \"B\", \"C\", \"D\", \"E\", \"F\", \"G\"],\n",
    "    'parent': [\"\", \"A\", \"A\", \"B\", \"B\", \"C\", \"D\"],\n",
    "    'value': [10, 15, 7, 8, 12, 6, 5]\n",
    "}\n",
    "\n",
    "df = pd.DataFrame(data)\n",
    "\n",
    "fig = px.sunburst(df, names='id', parents='parent', values='value')\n",
    "fig.show()"
   ]
  }
 ],
 "metadata": {
  "kernelspec": {
   "display_name": "Python 3",
   "language": "python",
   "name": "python3"
  },
  "language_info": {
   "codemirror_mode": {
    "name": "ipython",
    "version": 3
   },
   "file_extension": ".py",
   "mimetype": "text/x-python",
   "name": "python",
   "nbconvert_exporter": "python",
   "pygments_lexer": "ipython3",
   "version": "3.13.3"
  }
 },
 "nbformat": 4,
 "nbformat_minor": 5
}
